{
  "nbformat": 4,
  "nbformat_minor": 0,
  "metadata": {
    "colab": {
      "provenance": [],
      "authorship_tag": "ABX9TyOtt+6i9v4TgExzOOfp1XjN",
      "include_colab_link": true
    },
    "kernelspec": {
      "name": "python3",
      "display_name": "Python 3"
    },
    "language_info": {
      "name": "python"
    },
    "accelerator": "GPU",
    "gpuClass": "standard"
  },
  "cells": [
    {
      "cell_type": "markdown",
      "metadata": {
        "id": "view-in-github",
        "colab_type": "text"
      },
      "source": [
        "<a href=\"https://colab.research.google.com/github/Ness731/kgu_bootcamp/blob/main/DNN.ipynb\" target=\"_parent\"><img src=\"https://colab.research.google.com/assets/colab-badge.svg\" alt=\"Open In Colab\"/></a>"
      ]
    },
    {
      "cell_type": "code",
      "execution_count": null,
      "metadata": {
        "id": "sldqjMYu-027"
      },
      "outputs": [],
      "source": [
        "from tensorflow.keras.datasets.boston_housing import load_data\n",
        "import tensorflow as tf\n",
        "import numpy as np\n",
        "import matplotlib.pyplot as plt"
      ]
    },
    {
      "cell_type": "code",
      "source": [
        "# 데이터셋 준비\n",
        "(train_X, train_Y), (test_X, test_Y) = load_data(path='boston_housing.npz',\n",
        "                                                 test_split=0.2,\n",
        "                                                 seed=777)"
      ],
      "metadata": {
        "id": "gGJJdDri-3TG"
      },
      "execution_count": null,
      "outputs": []
    },
    {
      "cell_type": "code",
      "source": [
        "# 데이터 정규화\n",
        "X_mean = train_X.mean(axis=0)\n",
        "X_std = train_X.std(axis=0)\n",
        "train_X = train_X - X_mean\n",
        "train_X = train_X / X_std\n",
        "test_X = test_X - X_mean\n",
        "test_X = test_X / X_std\n",
        "\n",
        "Y_mean = train_Y.mean(axis=0)\n",
        "Y_std = train_Y.std(axis=0)\n",
        "train_Y = train_Y - Y_mean\n",
        "train_Y = train_Y / Y_std\n",
        "test_Y = test_Y - Y_mean\n",
        "test_Y = test_Y / Y_std"
      ],
      "metadata": {
        "id": "MX8STIIZ-_t3"
      },
      "execution_count": null,
      "outputs": []
    },
    {
      "cell_type": "code",
      "source": [
        "# 모델 생성 : 2개의 hidden layer\n",
        "model = tf.keras.Sequential([\n",
        "    tf.keras.layers.Dense(units=64, activation='relu', input_shape=(13, )),\n",
        "    tf.keras.layers.Dense(units=32, activation='relu'),\n",
        "    tf.keras.layers.Dense(units=1)\n",
        "])"
      ],
      "metadata": {
        "id": "fpmIlrdX_UBz"
      },
      "execution_count": null,
      "outputs": []
    },
    {
      "cell_type": "code",
      "source": [
        "model.compile(optimizer=tf.keras.optimizers.Adam(lr=0.05), loss='mse')\n",
        "history = model.fit(train_X, train_Y, epochs=30, batch_size=32, validation_split=0.2)"
      ],
      "metadata": {
        "colab": {
          "base_uri": "https://localhost:8080/"
        },
        "id": "5oOiDBST_ed6",
        "outputId": "91e1b926-c22c-4244-ac83-4370211616bd"
      },
      "execution_count": null,
      "outputs": [
        {
          "output_type": "stream",
          "name": "stdout",
          "text": [
            "Epoch 1/30\n"
          ]
        },
        {
          "output_type": "stream",
          "name": "stderr",
          "text": [
            "/usr/local/lib/python3.8/dist-packages/keras/optimizers/optimizer_v2/adam.py:110: UserWarning: The `lr` argument is deprecated, use `learning_rate` instead.\n",
            "  super(Adam, self).__init__(name, **kwargs)\n"
          ]
        },
        {
          "output_type": "stream",
          "name": "stdout",
          "text": [
            "11/11 [==============================] - 3s 18ms/step - loss: 0.9856 - val_loss: 0.3173\n",
            "Epoch 2/30\n",
            "11/11 [==============================] - 0s 4ms/step - loss: 0.3588 - val_loss: 0.1549\n",
            "Epoch 3/30\n",
            "11/11 [==============================] - 0s 4ms/step - loss: 0.3133 - val_loss: 0.2691\n",
            "Epoch 4/30\n",
            "11/11 [==============================] - 0s 5ms/step - loss: 0.3563 - val_loss: 0.3638\n",
            "Epoch 5/30\n",
            "11/11 [==============================] - 0s 4ms/step - loss: 0.3231 - val_loss: 0.1966\n",
            "Epoch 6/30\n",
            "11/11 [==============================] - 0s 4ms/step - loss: 0.2082 - val_loss: 0.1792\n",
            "Epoch 7/30\n",
            "11/11 [==============================] - 0s 4ms/step - loss: 0.1568 - val_loss: 0.1684\n",
            "Epoch 8/30\n",
            "11/11 [==============================] - 0s 5ms/step - loss: 0.1354 - val_loss: 0.2067\n",
            "Epoch 9/30\n",
            "11/11 [==============================] - 0s 4ms/step - loss: 0.1200 - val_loss: 0.1175\n",
            "Epoch 10/30\n",
            "11/11 [==============================] - 0s 5ms/step - loss: 0.0878 - val_loss: 0.1391\n",
            "Epoch 11/30\n",
            "11/11 [==============================] - 0s 4ms/step - loss: 0.1066 - val_loss: 0.1680\n",
            "Epoch 12/30\n",
            "11/11 [==============================] - 0s 4ms/step - loss: 0.1300 - val_loss: 0.2060\n",
            "Epoch 13/30\n",
            "11/11 [==============================] - 0s 5ms/step - loss: 0.1977 - val_loss: 0.1898\n",
            "Epoch 14/30\n",
            "11/11 [==============================] - 0s 4ms/step - loss: 0.1448 - val_loss: 0.1428\n",
            "Epoch 15/30\n",
            "11/11 [==============================] - 0s 4ms/step - loss: 0.1155 - val_loss: 0.1173\n",
            "Epoch 16/30\n",
            "11/11 [==============================] - 0s 4ms/step - loss: 0.1018 - val_loss: 0.1235\n",
            "Epoch 17/30\n",
            "11/11 [==============================] - 0s 4ms/step - loss: 0.1386 - val_loss: 0.2049\n",
            "Epoch 18/30\n",
            "11/11 [==============================] - 0s 5ms/step - loss: 0.1162 - val_loss: 0.2550\n",
            "Epoch 19/30\n",
            "11/11 [==============================] - 0s 4ms/step - loss: 0.1621 - val_loss: 0.1950\n",
            "Epoch 20/30\n",
            "11/11 [==============================] - 0s 4ms/step - loss: 0.1528 - val_loss: 0.1348\n",
            "Epoch 21/30\n",
            "11/11 [==============================] - 0s 4ms/step - loss: 0.1107 - val_loss: 0.1060\n",
            "Epoch 22/30\n",
            "11/11 [==============================] - 0s 5ms/step - loss: 0.0779 - val_loss: 0.1108\n",
            "Epoch 23/30\n",
            "11/11 [==============================] - 0s 4ms/step - loss: 0.1947 - val_loss: 0.1055\n",
            "Epoch 24/30\n",
            "11/11 [==============================] - 0s 4ms/step - loss: 0.1917 - val_loss: 0.1075\n",
            "Epoch 25/30\n",
            "11/11 [==============================] - 0s 4ms/step - loss: 0.2189 - val_loss: 0.1027\n",
            "Epoch 26/30\n",
            "11/11 [==============================] - 0s 5ms/step - loss: 0.2032 - val_loss: 0.1048\n",
            "Epoch 27/30\n",
            "11/11 [==============================] - 0s 5ms/step - loss: 0.1573 - val_loss: 0.1065\n",
            "Epoch 28/30\n",
            "11/11 [==============================] - 0s 4ms/step - loss: 0.0934 - val_loss: 0.1125\n",
            "Epoch 29/30\n",
            "11/11 [==============================] - 0s 5ms/step - loss: 0.0766 - val_loss: 0.1526\n",
            "Epoch 30/30\n",
            "11/11 [==============================] - 0s 4ms/step - loss: 0.0888 - val_loss: 0.1301\n"
          ]
        }
      ]
    },
    {
      "cell_type": "code",
      "source": [
        "plt.plot(history.history['loss'], 'b-', label='loss')\n",
        "plt.plot(history.history['val_loss'], 'r--', label='val_loss')\n",
        "plt.xlabel('epochs')\n",
        "plt.legend()\n",
        "plt.show()"
      ],
      "metadata": {
        "colab": {
          "base_uri": "https://localhost:8080/",
          "height": 279
        },
        "id": "nP2o74rD_gdl",
        "outputId": "5367383e-34a9-4c81-abdc-4dc83fda745d"
      },
      "execution_count": null,
      "outputs": [
        {
          "output_type": "display_data",
          "data": {
            "text/plain": [
              "<Figure size 432x288 with 1 Axes>"
            ],
            "image/png": "[encoded data removed]"
          },
          "metadata": {
            "needs_background": "light"
          }
        }
      ]
    },
    {
      "cell_type": "code",
      "source": [
        "pred_Y = model.predict(test_X)\n",
        "plt.figure(figsize=(5, 5))\n",
        "plt.plot(test_Y, pred_Y, 'b.')\n",
        "plt.axis([min(test_Y), max(test_Y), min(test_Y), max(test_Y)])\n",
        "\n",
        "plt.plot([min(test_Y), max(test_Y)], [min(test_Y), max(test_Y)], ls=\"-\", c=\".5\")\n",
        "\n",
        "plt.xlabel('test_Y')\n",
        "plt.ylabel('pred_Y')\n",
        "\n",
        "plt.show()"
      ],
      "metadata": {
        "colab": {
          "base_uri": "https://localhost:8080/",
          "height": 356
        },
        "id": "XoB9gkUd_jIE",
        "outputId": "89c8e280-357d-4978-b9f7-67930bb8dcf6"
      },
      "execution_count": null,
      "outputs": [
        {
          "output_type": "stream",
          "name": "stdout",
          "text": [
            "4/4 [==============================] - 0s 4ms/step\n"
          ]
        },
        {
          "output_type": "display_data",
          "data": {
            "text/plain": [
              "<Figure size 360x360 with 1 Axes>"
            ],
            "image/png": "[encoded data removed]"
          },
          "metadata": {
            "needs_background": "light"
          }
        }
      ]
    },
    {
      "cell_type": "code",
      "source": [
        "# 테스트 데이터 loss 측정\n",
        "eva = model.evaluate(test_X, test_Y)\n",
        "print(eva)"
      ],
      "metadata": {
        "colab": {
          "base_uri": "https://localhost:8080/"
        },
        "id": "IX1A7opg_naq",
        "outputId": "7cbf6d3e-7739-4074-a852-09c228be8b7c"
      },
      "execution_count": null,
      "outputs": [
        {
          "output_type": "stream",
          "name": "stdout",
          "text": [
            "4/4 [==============================] - 0s 3ms/step - loss: 0.1231\n",
            "0.12313398718833923\n"
          ]
        }
      ]
    }
  ]
}