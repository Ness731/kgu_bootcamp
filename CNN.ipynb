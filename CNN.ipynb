{
  "nbformat": 4,
  "nbformat_minor": 0,
  "metadata": {
    "colab": {
      "provenance": [],
      "authorship_tag": "ABX9TyOLDHf/Ch3neoMNGBl19C9N",
      "include_colab_link": true
    },
    "kernelspec": {
      "name": "python3",
      "display_name": "Python 3"
    },
    "language_info": {
      "name": "python"
    },
    "accelerator": "GPU",
    "gpuClass": "standard"
  },
  "cells": [
    {
      "cell_type": "markdown",
      "metadata": {
        "id": "view-in-github",
        "colab_type": "text"
      },
      "source": [
        "<a href=\"https://colab.research.google.com/github/Ness731/kgu_bootcamp/blob/main/CNN.ipynb\" target=\"_parent\"><img src=\"https://colab.research.google.com/assets/colab-badge.svg\" alt=\"Open In Colab\"/></a>"
      ]
    },
    {
      "cell_type": "code",
      "source": [
        "# Ignore warnings :\n",
        "import warnings\n",
        "warnings.filterwarnings('ignore')"
      ],
      "metadata": {
        "id": "mNM-267hGPK5"
      },
      "execution_count": 1,
      "outputs": []
    },
    {
      "cell_type": "code",
      "source": [
        "import tensorflow as tf\n",
        "fashion_mnist = tf.keras.datasets.fashion_mnist\n",
        "(train_images, train_labels), (test_images, test_labels) = fashion_mnist.load_data()"
      ],
      "metadata": {
        "id": "pleIIkv5GRn_"
      },
      "execution_count": 2,
      "outputs": []
    },
    {
      "cell_type": "code",
      "source": [
        "print(train_images.shape)\n",
        "print(train_labels.shape)\n",
        "print(test_images.shape)\n",
        "print(test_labels.shape)"
      ],
      "metadata": {
        "id": "o9-1F2bHGq4O",
        "colab": {
          "base_uri": "https://localhost:8080/"
        },
        "outputId": "8710aa12-85c1-417f-cada-1e3f6cdac571"
      },
      "execution_count": 3,
      "outputs": [
        {
          "output_type": "stream",
          "name": "stdout",
          "text": [
            "(60000, 28, 28)\n",
            "(60000,)\n",
            "(10000, 28, 28)\n",
            "(10000,)\n"
          ]
        }
      ]
    },
    {
      "cell_type": "code",
      "source": [
        "import numpy as np\n",
        "train_data = np.array(train_images).reshape(train_images.shape[0],28,28,1)\n",
        "test_data = np.array(test_images).reshape(test_images.shape[0],28,28,1)\n",
        "print('Train tensor shape: ',train_data.shape)\n",
        "print('Test tensor shape: ',test_data.shape)\n",
        "print('Single image shape:', train_data[0].shape)\n",
        "print('Train_labels shape:', train_labels.shape)\n",
        "print('Test_labels shape:', test_labels.shape)"
      ],
      "metadata": {
        "id": "RXcPJVGuKSaE",
        "colab": {
          "base_uri": "https://localhost:8080/"
        },
        "outputId": "c857c082-75d5-4cd2-9989-dde0b9f57ee1"
      },
      "execution_count": 4,
      "outputs": [
        {
          "output_type": "stream",
          "name": "stdout",
          "text": [
            "Train tensor shape:  (60000, 28, 28, 1)\n",
            "Test tensor shape:  (10000, 28, 28, 1)\n",
            "Single image shape: (28, 28, 1)\n",
            "Train_labels shape: (60000,)\n",
            "Test_labels shape: (10000,)\n"
          ]
        }
      ]
    },
    {
      "cell_type": "code",
      "source": [
        "print(\"max pixel:\", train_data.max())\n",
        "print(\"max pixel:\", train_data.min())\n",
        "\n",
        "# min max 정규화: X = (x - x_min / (x_max - x_min))\n",
        "train_norm = train_data / 255.0\n",
        "test_norm = test_data / 255.0\n",
        "\n",
        "print(\"norm max pixel:\", train_norm.max())\n",
        "print(\"norm max pixel:\", train_norm.min())"
      ],
      "metadata": {
        "id": "VkPIwVBaK3MI",
        "colab": {
          "base_uri": "https://localhost:8080/"
        },
        "outputId": "f8cc78c5-ce34-48fb-e19e-eee330c9718a"
      },
      "execution_count": 5,
      "outputs": [
        {
          "output_type": "stream",
          "name": "stdout",
          "text": [
            "max pixel: 255\n",
            "max pixel: 0\n",
            "norm max pixel: 1.0\n",
            "norm max pixel: 0.0\n"
          ]
        }
      ]
    },
    {
      "cell_type": "code",
      "source": [
        "X_train = train_norm[10000:]\n",
        "y_train = train_labels[10000:]\n",
        "\n",
        "X_valid = train_norm[:10000]\n",
        "y_valid = train_labels[:10000]"
      ],
      "metadata": {
        "id": "4G3DJjH4HpmH"
      },
      "execution_count": 6,
      "outputs": []
    },
    {
      "cell_type": "code",
      "source": [
        "print(X_train.shape)\n",
        "print(X_valid.shape)"
      ],
      "metadata": {
        "id": "yiuJYoFsQikV",
        "colab": {
          "base_uri": "https://localhost:8080/"
        },
        "outputId": "ca6bc8ac-ef1f-4601-8e7f-16d06587bd64"
      },
      "execution_count": 7,
      "outputs": [
        {
          "output_type": "stream",
          "name": "stdout",
          "text": [
            "(50000, 28, 28, 1)\n",
            "(10000, 28, 28, 1)\n"
          ]
        }
      ]
    },
    {
      "cell_type": "code",
      "source": [
        "# 랜덤 시드값 설정\n",
        "tf.random.set_seed(42)\n",
        "\n",
        "# 모델 생성\n",
        "model = tf.keras.Sequential([\n",
        "    tf.keras.layers.Conv2D(filters=5, kernel_size=3, strides=1, padding=\"same\", activation=\"relu\",\n",
        "                           input_shape=(28,28,1)), \n",
        "    tf.keras.layers.BatchNormalization(),\n",
        "    tf.keras.layers.Conv2D(32, 3, padding=\"valid\", activation='relu'),\n",
        "    tf.keras.layers.BatchNormalization(),\n",
        "    tf.keras.layers.Dropout(0.25),\n",
        "    \n",
        "    tf.keras.layers.Conv2D(64, 3, padding=\"valid\", activation='relu'),\n",
        "    tf.keras.layers.MaxPool2D(pool_size=2),\n",
        "    tf.keras.layers.Dropout(0.25),\n",
        "    \n",
        "    tf.keras.layers.Conv2D(128, 3, padding=\"valid\", activation='relu'),\n",
        "    tf.keras.layers.MaxPool2D(pool_size=2),\n",
        "    tf.keras.layers.Dropout(0.25),\n",
        "    \n",
        "    tf.keras.layers.Flatten(),\n",
        "    tf.keras.layers.Dense(64, activation=\"relu\"),\n",
        "    tf.keras.layers.BatchNormalization(),\n",
        "    tf.keras.layers.Dropout(0.5),\n",
        "    tf.keras.layers.Dense(10, activation=\"softmax\") # 출력층 (Classifier), 노드 개수는 10\n",
        "\n",
        "])"
      ],
      "metadata": {
        "id": "oMlcI5-KIQyD"
      },
      "execution_count": 8,
      "outputs": []
    },
    {
      "cell_type": "code",
      "source": [
        "# 모델 컴파일\n",
        "model.compile(loss=\"sparse_categorical_crossentropy\",\n",
        "               optimizer=tf.keras.optimizers.Adam(learning_rate=0.001),\n",
        "               metrics=[\"accuracy\"])\n",
        "\n",
        "# 모델 요약 출력\n",
        "model.summary()"
      ],
      "metadata": {
        "id": "xO2z3LDoIlJQ",
        "colab": {
          "base_uri": "https://localhost:8080/"
        },
        "outputId": "97c97aa2-9164-4fd7-b8ee-d641160acc4a"
      },
      "execution_count": 9,
      "outputs": [
        {
          "output_type": "stream",
          "name": "stdout",
          "text": [
            "Model: \"sequential\"\n",
            "_________________________________________________________________\n",
            " Layer (type)                Output Shape              Param #   \n",
            "=================================================================\n",
            " conv2d (Conv2D)             (None, 28, 28, 5)         50        \n",
            "                                                                 \n",
            " batch_normalization (BatchN  (None, 28, 28, 5)        20        \n",
            " ormalization)                                                   \n",
            "                                                                 \n",
            " conv2d_1 (Conv2D)           (None, 26, 26, 32)        1472      \n",
            "                                                                 \n",
            " batch_normalization_1 (Batc  (None, 26, 26, 32)       128       \n",
            " hNormalization)                                                 \n",
            "                                                                 \n",
            " dropout (Dropout)           (None, 26, 26, 32)        0         \n",
            "                                                                 \n",
            " conv2d_2 (Conv2D)           (None, 24, 24, 64)        18496     \n",
            "                                                                 \n",
            " max_pooling2d (MaxPooling2D  (None, 12, 12, 64)       0         \n",
            " )                                                               \n",
            "                                                                 \n",
            " dropout_1 (Dropout)         (None, 12, 12, 64)        0         \n",
            "                                                                 \n",
            " conv2d_3 (Conv2D)           (None, 10, 10, 128)       73856     \n",
            "                                                                 \n",
            " max_pooling2d_1 (MaxPooling  (None, 5, 5, 128)        0         \n",
            " 2D)                                                             \n",
            "                                                                 \n",
            " dropout_2 (Dropout)         (None, 5, 5, 128)         0         \n",
            "                                                                 \n",
            " flatten (Flatten)           (None, 3200)              0         \n",
            "                                                                 \n",
            " dense (Dense)               (None, 64)                204864    \n",
            "                                                                 \n",
            " batch_normalization_2 (Batc  (None, 64)               256       \n",
            " hNormalization)                                                 \n",
            "                                                                 \n",
            " dropout_3 (Dropout)         (None, 64)                0         \n",
            "                                                                 \n",
            " dense_1 (Dense)             (None, 10)                650       \n",
            "                                                                 \n",
            "=================================================================\n",
            "Total params: 299,792\n",
            "Trainable params: 299,590\n",
            "Non-trainable params: 202\n",
            "_________________________________________________________________\n"
          ]
        }
      ]
    },
    {
      "cell_type": "code",
      "source": [
        "history = model.fit(X_train, y_train,\n",
        "                    epochs=20,batch_size=32,\n",
        "                    validation_data=(X_valid,y_valid), verbose=1\n",
        "                    )"
      ],
      "metadata": {
        "id": "J9APAM1UInZs",
        "colab": {
          "base_uri": "https://localhost:8080/"
        },
        "outputId": "862657df-c347-4b2c-c0e4-6817e9c72463"
      },
      "execution_count": 10,
      "outputs": [
        {
          "output_type": "stream",
          "name": "stdout",
          "text": [
            "Epoch 1/20\n",
            "1563/1563 [==============================] - 21s 11ms/step - loss: 0.5819 - accuracy: 0.8014 - val_loss: 0.3360 - val_accuracy: 0.8765\n",
            "Epoch 2/20\n",
            "1563/1563 [==============================] - 10s 7ms/step - loss: 0.3810 - accuracy: 0.8683 - val_loss: 0.2819 - val_accuracy: 0.8937\n",
            "Epoch 3/20\n",
            "1563/1563 [==============================] - 10s 7ms/step - loss: 0.3302 - accuracy: 0.8878 - val_loss: 0.2574 - val_accuracy: 0.9042\n",
            "Epoch 4/20\n",
            "1563/1563 [==============================] - 10s 6ms/step - loss: 0.3068 - accuracy: 0.8950 - val_loss: 0.2306 - val_accuracy: 0.9176\n",
            "Epoch 5/20\n",
            "1563/1563 [==============================] - 10s 7ms/step - loss: 0.2839 - accuracy: 0.9027 - val_loss: 0.2261 - val_accuracy: 0.9171\n",
            "Epoch 6/20\n",
            "1563/1563 [==============================] - 10s 7ms/step - loss: 0.2711 - accuracy: 0.9082 - val_loss: 0.2090 - val_accuracy: 0.9241\n",
            "Epoch 7/20\n",
            "1563/1563 [==============================] - 10s 6ms/step - loss: 0.2574 - accuracy: 0.9119 - val_loss: 0.2191 - val_accuracy: 0.9210\n",
            "Epoch 8/20\n",
            "1563/1563 [==============================] - 10s 6ms/step - loss: 0.2479 - accuracy: 0.9145 - val_loss: 0.2027 - val_accuracy: 0.9256\n",
            "Epoch 9/20\n",
            "1563/1563 [==============================] - 10s 7ms/step - loss: 0.2392 - accuracy: 0.9186 - val_loss: 0.2044 - val_accuracy: 0.9238\n",
            "Epoch 10/20\n",
            "1563/1563 [==============================] - 11s 7ms/step - loss: 0.2283 - accuracy: 0.9221 - val_loss: 0.2059 - val_accuracy: 0.9255\n",
            "Epoch 11/20\n",
            "1563/1563 [==============================] - 11s 7ms/step - loss: 0.2231 - accuracy: 0.9240 - val_loss: 0.2129 - val_accuracy: 0.9212\n",
            "Epoch 12/20\n",
            "1563/1563 [==============================] - 10s 6ms/step - loss: 0.2174 - accuracy: 0.9259 - val_loss: 0.2057 - val_accuracy: 0.9233\n",
            "Epoch 13/20\n",
            "1563/1563 [==============================] - 10s 7ms/step - loss: 0.2133 - accuracy: 0.9256 - val_loss: 0.1792 - val_accuracy: 0.9323\n",
            "Epoch 14/20\n",
            "1563/1563 [==============================] - 10s 6ms/step - loss: 0.2087 - accuracy: 0.9281 - val_loss: 0.1892 - val_accuracy: 0.9286\n",
            "Epoch 15/20\n",
            "1563/1563 [==============================] - 10s 6ms/step - loss: 0.1992 - accuracy: 0.9308 - val_loss: 0.1878 - val_accuracy: 0.9299\n",
            "Epoch 16/20\n",
            "1563/1563 [==============================] - 10s 7ms/step - loss: 0.1947 - accuracy: 0.9312 - val_loss: 0.1959 - val_accuracy: 0.9292\n",
            "Epoch 17/20\n",
            "1563/1563 [==============================] - 10s 7ms/step - loss: 0.1914 - accuracy: 0.9338 - val_loss: 0.1806 - val_accuracy: 0.9335\n",
            "Epoch 18/20\n",
            "1563/1563 [==============================] - 11s 7ms/step - loss: 0.1863 - accuracy: 0.9352 - val_loss: 0.1806 - val_accuracy: 0.9323\n",
            "Epoch 19/20\n",
            "1563/1563 [==============================] - 10s 7ms/step - loss: 0.1824 - accuracy: 0.9381 - val_loss: 0.1965 - val_accuracy: 0.9272\n",
            "Epoch 20/20\n",
            "1563/1563 [==============================] - 10s 7ms/step - loss: 0.1872 - accuracy: 0.9357 - val_loss: 0.1896 - val_accuracy: 0.9291\n"
          ]
        }
      ]
    },
    {
      "cell_type": "code",
      "source": [
        "score = model.evaluate(test_norm, test_labels)\n",
        "\n",
        "print('Loss: {:.4f}'.format(score[0]))\n",
        "print('Accuracy: {:.4f}'.format(score[1]))"
      ],
      "metadata": {
        "id": "axufFsIrNNh7",
        "colab": {
          "base_uri": "https://localhost:8080/"
        },
        "outputId": "f202f652-3968-4630-dab6-f7a9f2f1e15a"
      },
      "execution_count": 11,
      "outputs": [
        {
          "output_type": "stream",
          "name": "stdout",
          "text": [
            "313/313 [==============================] - 1s 4ms/step - loss: 0.2072 - accuracy: 0.9270\n",
            "Loss: 0.2072\n",
            "Accuracy: 0.9270\n"
          ]
        }
      ]
    },
    {
      "cell_type": "code",
      "source": [
        "import matplotlib.pyplot as plt\n",
        "plt.plot(history.history['loss'], 'b-', label='loss')\n",
        "plt.plot(history.history['val_loss'], 'r--', label='val_loss')\n",
        "plt.xlabel('epochs')\n",
        "plt.legend()\n",
        "plt.show()"
      ],
      "metadata": {
        "id": "KnzJLA_pI9ZM",
        "colab": {
          "base_uri": "https://localhost:8080/",
          "height": 282
        },
        "outputId": "f42f1ec7-befd-4225-96f3-6524709638f3"
      },
      "execution_count": 12,
      "outputs": [
        {
          "output_type": "display_data",
          "data": {
            "text/plain": [
              "<Figure size 432x288 with 1 Axes>"
            ],
            "image/png": "[encoded data removed]"
          },
          "metadata": {
            "needs_background": "light"
          }
        }
      ]
    },
    {
      "cell_type": "code",
      "source": [
        "#Make predictions\n",
        "y_probs = model.predict(test_images)\n",
        "\n",
        "#Convert prediction probabilities into integers\n",
        "y_preds = y_probs.argmax(axis=1)"
      ],
      "metadata": {
        "id": "L8hCxk-zJJVv",
        "colab": {
          "base_uri": "https://localhost:8080/"
        },
        "outputId": "63479a32-7a5f-413e-976d-d6db4b858f57"
      },
      "execution_count": 13,
      "outputs": [
        {
          "output_type": "stream",
          "name": "stdout",
          "text": [
            "313/313 [==============================] - 1s 2ms/step\n"
          ]
        }
      ]
    },
    {
      "cell_type": "code",
      "source": [
        "label_names = [\"T-shirt/top\",\"Trouser\",\"Pullover\",\"Dress\",\"Coat\",\"Sandal\",\"Shirt\",\"Sneaker\",\"Bag\",\"Ankle boot\"]"
      ],
      "metadata": {
        "id": "x6-LtK-1JZ2S"
      },
      "execution_count": 14,
      "outputs": []
    },
    {
      "cell_type": "code",
      "source": [
        "from sklearn.metrics import plot_confusion_matrix, ConfusionMatrixDisplay, confusion_matrix\n",
        "#Confusion matrix\n",
        "cm=confusion_matrix(y_preds,test_labels)\n",
        "#Plot\n",
        "disp=ConfusionMatrixDisplay(confusion_matrix=cm,display_labels=label_names)\n",
        "fig, ax = plt.subplots(figsize=(10,10))\n",
        "disp.plot(ax=ax);"
      ],
      "metadata": {
        "id": "MKqX5qEeJKkq",
        "colab": {
          "base_uri": "https://localhost:8080/",
          "height": 580
        },
        "outputId": "8424b813-63d0-4f13-da11-5c0f08c90974"
      },
      "execution_count": 15,
      "outputs": [
        {
          "output_type": "display_data",
          "data": {
            "text/plain": [
              "<Figure size 720x720 with 2 Axes>"
            ],
            "image/png": "[encoded data removed]"
          },
          "metadata": {
            "needs_background": "light"
          }
        }
      ]
    }
  ]
}