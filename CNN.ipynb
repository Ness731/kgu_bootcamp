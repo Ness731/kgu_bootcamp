{
  "nbformat": 4,
  "nbformat_minor": 0,
  "metadata": {
    "colab": {
      "provenance": [],
      "authorship_tag": "ABX9TyOea/0bX98tOUwEL7bOgzpH",
      "include_colab_link": true
    },
    "kernelspec": {
      "name": "python3",
      "display_name": "Python 3"
    },
    "language_info": {
      "name": "python"
    },
    "accelerator": "GPU",
    "gpuClass": "standard"
  },
  "cells": [
    {
      "cell_type": "markdown",
      "metadata": {
        "id": "view-in-github",
        "colab_type": "text"
      },
      "source": [
        "<a href=\"https://colab.research.google.com/github/Ness731/kgu_bootcamp/blob/main/CNN.ipynb\" target=\"_parent\"><img src=\"https://colab.research.google.com/assets/colab-badge.svg\" alt=\"Open In Colab\"/></a>"
      ]
    },
    {
      "cell_type": "code",
      "source": [
        "# Ignore warnings :\n",
        "import warnings\n",
        "warnings.filterwarnings('ignore')"
      ],
      "metadata": {
        "id": "mNM-267hGPK5"
      },
      "execution_count": 1,
      "outputs": []
    },
    {
      "cell_type": "code",
      "source": [
        "import tensorflow as tf\n",
        "fashion_mnist = tf.keras.datasets.fashion_mnist\n",
        "(train_images, train_labels), (test_images, test_labels) = fashion_mnist.load_data()"
      ],
      "metadata": {
        "id": "pleIIkv5GRn_"
      },
      "execution_count": 2,
      "outputs": []
    },
    {
      "cell_type": "code",
      "source": [
        "print(train_images.shape)\n",
        "print(train_labels.shape)\n",
        "print(test_images.shape)\n",
        "print(test_labels.shape)"
      ],
      "metadata": {
        "colab": {
          "base_uri": "https://localhost:8080/"
        },
        "id": "o9-1F2bHGq4O",
        "outputId": "74abe139-ec4b-4689-f32c-16db4d036aea"
      },
      "execution_count": 3,
      "outputs": [
        {
          "output_type": "stream",
          "name": "stdout",
          "text": [
            "(60000, 28, 28)\n",
            "(60000,)\n",
            "(10000, 28, 28)\n",
            "(10000,)\n"
          ]
        }
      ]
    },
    {
      "cell_type": "code",
      "source": [
        "import numpy as np\n",
        "train_data = np.array(train_images).reshape(train_images.shape[0],28,28,1)\n",
        "test_data = np.array(test_images).reshape(test_images.shape[0],28,28,1)\n",
        "print('Train tensor shape: ',train_data.shape)\n",
        "print('Test tensor shape: ',test_data.shape)\n",
        "print('Single image shape:', train_data[0].shape)\n",
        "print('Train_labels shape:', train_labels.shape)\n",
        "print('Test_labels shape:', test_labels.shape)"
      ],
      "metadata": {
        "colab": {
          "base_uri": "https://localhost:8080/"
        },
        "id": "RXcPJVGuKSaE",
        "outputId": "b35fed97-561d-4541-ccfb-b0192d0c2634"
      },
      "execution_count": 4,
      "outputs": [
        {
          "output_type": "stream",
          "name": "stdout",
          "text": [
            "Train tensor shape:  (60000, 28, 28, 1)\n",
            "Test tensor shape:  (10000, 28, 28, 1)\n",
            "Single image shape: (28, 28, 1)\n",
            "Train_labels shape: (60000,)\n",
            "Test_labels shape: (10000,)\n"
          ]
        }
      ]
    },
    {
      "cell_type": "code",
      "source": [
        "print(\"max pixel:\", train_data.max())\n",
        "print(\"max pixel:\", train_data.min())\n",
        "\n",
        "# min max 정규화: X = (x - x_min / (x_max - x_min))\n",
        "train_norm = train_data / 255.0\n",
        "test_norm = test_data / 255.0\n",
        "\n",
        "print(\"norm max pixel:\", train_norm.max())\n",
        "print(\"norm max pixel:\", train_norm.min())"
      ],
      "metadata": {
        "colab": {
          "base_uri": "https://localhost:8080/"
        },
        "id": "VkPIwVBaK3MI",
        "outputId": "4ce031a2-57c4-4094-d4ca-9e378b5f34d7"
      },
      "execution_count": 5,
      "outputs": [
        {
          "output_type": "stream",
          "name": "stdout",
          "text": [
            "max pixel: 255\n",
            "max pixel: 0\n",
            "norm max pixel: 1.0\n",
            "norm max pixel: 0.0\n"
          ]
        }
      ]
    },
    {
      "cell_type": "code",
      "source": [
        "X_train = train_norm[10000:]\n",
        "y_train = train_labels[10000:]\n",
        "\n",
        "X_valid = train_norm[:10000]\n",
        "y_valid = train_labels[:10000]"
      ],
      "metadata": {
        "id": "4G3DJjH4HpmH"
      },
      "execution_count": 6,
      "outputs": []
    },
    {
      "cell_type": "code",
      "source": [
        "print(X_train.shape)\n",
        "print(X_valid.shape)"
      ],
      "metadata": {
        "colab": {
          "base_uri": "https://localhost:8080/"
        },
        "id": "yiuJYoFsQikV",
        "outputId": "c5f969cf-243d-4b8f-a407-27d682ec5cbb"
      },
      "execution_count": 34,
      "outputs": [
        {
          "output_type": "stream",
          "name": "stdout",
          "text": [
            "(50000, 28, 28, 1)\n",
            "(10000, 28, 28, 1)\n"
          ]
        }
      ]
    },
    {
      "cell_type": "code",
      "source": [
        "# 랜덤 시드값 설정\n",
        "tf.random.set_seed(42)\n",
        "\n",
        "# 모델 생성\n",
        "model = tf.keras.Sequential([\n",
        "    tf.keras.layers.Conv2D(filters=5, kernel_size=3, strides=1, padding=\"same\", activation=\"relu\",\n",
        "                           input_shape=(28,28,1)), \n",
        "    tf.keras.layers.BatchNormalization(),\n",
        "    tf.keras.layers.Conv2D(32, 3, padding=\"valid\", activation='relu'),\n",
        "    tf.keras.layers.BatchNormalization(),\n",
        "    tf.keras.layers.Dropout(0.25),\n",
        "    \n",
        "    tf.keras.layers.Conv2D(64, 3, padding=\"valid\", activation='relu'),\n",
        "    tf.keras.layers.MaxPool2D(pool_size=2),\n",
        "    tf.keras.layers.Dropout(0.25),\n",
        "    \n",
        "    tf.keras.layers.Conv2D(128, 3, padding=\"valid\", activation='relu'),\n",
        "    tf.keras.layers.MaxPool2D(pool_size=2),\n",
        "    tf.keras.layers.Dropout(0.25),\n",
        "    \n",
        "    tf.keras.layers.Flatten(),\n",
        "    tf.keras.layers.Dense(64, activation=\"relu\"),\n",
        "    tf.keras.layers.BatchNormalization(),\n",
        "    tf.keras.layers.Dropout(0.5),\n",
        "    tf.keras.layers.Dense(10, activation=\"softmax\") # 출력층 (Classifier), 노드 개수는 10\n",
        "\n",
        "])"
      ],
      "metadata": {
        "id": "oMlcI5-KIQyD"
      },
      "execution_count": 25,
      "outputs": []
    },
    {
      "cell_type": "code",
      "source": [
        "# 모델 컴파일\n",
        "model.compile(loss=\"sparse_categorical_crossentropy\",\n",
        "               optimizer=tf.keras.optimizers.Adam(learning_rate=0.001),\n",
        "               metrics=[\"accuracy\"])\n",
        "\n",
        "# 모델 요약 출력\n",
        "model.summary()"
      ],
      "metadata": {
        "colab": {
          "base_uri": "https://localhost:8080/"
        },
        "id": "xO2z3LDoIlJQ",
        "outputId": "c800a6b9-e557-465d-f7cc-ce8e836627e2"
      },
      "execution_count": 26,
      "outputs": [
        {
          "output_type": "stream",
          "name": "stdout",
          "text": [
            "Model: \"sequential_4\"\n",
            "_________________________________________________________________\n",
            " Layer (type)                Output Shape              Param #   \n",
            "=================================================================\n",
            " conv2d_16 (Conv2D)          (None, 28, 28, 5)         50        \n",
            "                                                                 \n",
            " batch_normalization_3 (Batc  (None, 28, 28, 5)        20        \n",
            " hNormalization)                                                 \n",
            "                                                                 \n",
            " conv2d_17 (Conv2D)          (None, 26, 26, 32)        1472      \n",
            "                                                                 \n",
            " batch_normalization_4 (Batc  (None, 26, 26, 32)       128       \n",
            " hNormalization)                                                 \n",
            "                                                                 \n",
            " dropout_3 (Dropout)         (None, 26, 26, 32)        0         \n",
            "                                                                 \n",
            " conv2d_18 (Conv2D)          (None, 24, 24, 64)        18496     \n",
            "                                                                 \n",
            " max_pooling2d_12 (MaxPoolin  (None, 12, 12, 64)       0         \n",
            " g2D)                                                            \n",
            "                                                                 \n",
            " dropout_4 (Dropout)         (None, 12, 12, 64)        0         \n",
            "                                                                 \n",
            " conv2d_19 (Conv2D)          (None, 10, 10, 128)       73856     \n",
            "                                                                 \n",
            " max_pooling2d_13 (MaxPoolin  (None, 5, 5, 128)        0         \n",
            " g2D)                                                            \n",
            "                                                                 \n",
            " dropout_5 (Dropout)         (None, 5, 5, 128)         0         \n",
            "                                                                 \n",
            " flatten_4 (Flatten)         (None, 3200)              0         \n",
            "                                                                 \n",
            " dense_7 (Dense)             (None, 64)                204864    \n",
            "                                                                 \n",
            " batch_normalization_5 (Batc  (None, 64)               256       \n",
            " hNormalization)                                                 \n",
            "                                                                 \n",
            " dropout_6 (Dropout)         (None, 64)                0         \n",
            "                                                                 \n",
            " dense_8 (Dense)             (None, 10)                650       \n",
            "                                                                 \n",
            "=================================================================\n",
            "Total params: 299,792\n",
            "Trainable params: 299,590\n",
            "Non-trainable params: 202\n",
            "_________________________________________________________________\n"
          ]
        }
      ]
    },
    {
      "cell_type": "code",
      "source": [
        "history = model.fit(X_train, y_train,\n",
        "                    epochs=10,batch_size=32,\n",
        "                    validation_data=(X_valid,y_valid), verbose=1\n",
        "                    )"
      ],
      "metadata": {
        "colab": {
          "base_uri": "https://localhost:8080/"
        },
        "id": "J9APAM1UInZs",
        "outputId": "b5cd970e-e734-4f1c-e5fb-97655e426308"
      },
      "execution_count": 27,
      "outputs": [
        {
          "output_type": "stream",
          "name": "stdout",
          "text": [
            "Epoch 1/10\n",
            "1563/1563 [==============================] - 11s 7ms/step - loss: 0.5761 - accuracy: 0.8018 - val_loss: 0.3147 - val_accuracy: 0.8848\n",
            "Epoch 2/10\n",
            "1563/1563 [==============================] - 10s 7ms/step - loss: 0.3794 - accuracy: 0.8689 - val_loss: 0.2638 - val_accuracy: 0.9085\n",
            "Epoch 3/10\n",
            "1563/1563 [==============================] - 11s 7ms/step - loss: 0.3284 - accuracy: 0.8887 - val_loss: 0.2677 - val_accuracy: 0.9007\n",
            "Epoch 4/10\n",
            "1563/1563 [==============================] - 10s 7ms/step - loss: 0.2994 - accuracy: 0.8974 - val_loss: 0.2285 - val_accuracy: 0.9209\n",
            "Epoch 5/10\n",
            "1563/1563 [==============================] - 11s 7ms/step - loss: 0.2813 - accuracy: 0.9042 - val_loss: 0.2107 - val_accuracy: 0.9236\n",
            "Epoch 6/10\n",
            "1563/1563 [==============================] - 10s 6ms/step - loss: 0.2675 - accuracy: 0.9099 - val_loss: 0.2088 - val_accuracy: 0.9248\n",
            "Epoch 7/10\n",
            "1563/1563 [==============================] - 10s 7ms/step - loss: 0.2542 - accuracy: 0.9135 - val_loss: 0.2113 - val_accuracy: 0.9231\n",
            "Epoch 8/10\n",
            "1563/1563 [==============================] - 10s 7ms/step - loss: 0.2467 - accuracy: 0.9148 - val_loss: 0.1965 - val_accuracy: 0.9312\n",
            "Epoch 9/10\n",
            "1563/1563 [==============================] - 10s 6ms/step - loss: 0.2368 - accuracy: 0.9173 - val_loss: 0.2144 - val_accuracy: 0.9217\n",
            "Epoch 10/10\n",
            "1563/1563 [==============================] - 10s 6ms/step - loss: 0.2279 - accuracy: 0.9223 - val_loss: 0.1873 - val_accuracy: 0.9328\n"
          ]
        }
      ]
    },
    {
      "cell_type": "code",
      "source": [
        "score = model.evaluate(test_norm, test_labels)\n",
        "\n",
        "print('Loss: {:.4f}'.format(score[0]))\n",
        "print('Accuracy: {:.4f}'.format(score[1]))"
      ],
      "metadata": {
        "colab": {
          "base_uri": "https://localhost:8080/"
        },
        "id": "axufFsIrNNh7",
        "outputId": "658a1f7d-1f97-4789-da3f-9d920d536c6f"
      },
      "execution_count": 28,
      "outputs": [
        {
          "output_type": "stream",
          "name": "stdout",
          "text": [
            "313/313 [==============================] - 1s 5ms/step - loss: 0.2045 - accuracy: 0.9263\n",
            "Loss: 0.2045\n",
            "Accuracy: 0.9263\n"
          ]
        }
      ]
    },
    {
      "cell_type": "code",
      "source": [
        "import matplotlib.pyplot as plt\n",
        "plt.plot(history.history['loss'], 'b-', label='loss')\n",
        "plt.plot(history.history['val_loss'], 'r--', label='val_loss')\n",
        "plt.xlabel('epochs')\n",
        "plt.legend()\n",
        "plt.show()"
      ],
      "metadata": {
        "colab": {
          "base_uri": "https://localhost:8080/",
          "height": 279
        },
        "id": "KnzJLA_pI9ZM",
        "outputId": "3fa1d0f6-14ec-46a1-9c27-4fdee035913e"
      },
      "execution_count": 29,
      "outputs": [
        {
          "output_type": "display_data",
          "data": {
            "text/plain": [
              "<Figure size 432x288 with 1 Axes>"
            ],
            "image/png": "[encoded data removed]"
          },
          "metadata": {
            "needs_background": "light"
          }
        }
      ]
    },
    {
      "cell_type": "code",
      "source": [
        "#Make predictions\n",
        "y_probs = model.predict(test_images)\n",
        "\n",
        "#Convert prediction probabilities into integers\n",
        "y_preds = y_probs.argmax(axis=1)"
      ],
      "metadata": {
        "colab": {
          "base_uri": "https://localhost:8080/"
        },
        "id": "L8hCxk-zJJVv",
        "outputId": "1955fd33-19eb-4565-8827-f64407119f89"
      },
      "execution_count": 30,
      "outputs": [
        {
          "output_type": "stream",
          "name": "stdout",
          "text": [
            "313/313 [==============================] - 1s 2ms/step\n"
          ]
        }
      ]
    },
    {
      "cell_type": "code",
      "source": [
        "label_names = [\"T-shirt/top\",\"Trouser\",\"Pullover\",\"Dress\",\"Coat\",\"Sandal\",\"Shirt\",\"Sneaker\",\"Bag\",\"Ankle boot\"]"
      ],
      "metadata": {
        "id": "x6-LtK-1JZ2S"
      },
      "execution_count": 31,
      "outputs": []
    },
    {
      "cell_type": "code",
      "source": [
        "from sklearn.metrics import plot_confusion_matrix, ConfusionMatrixDisplay, confusion_matrix\n",
        "#Confusion matrix\n",
        "cm=confusion_matrix(y_preds,test_labels)\n",
        "#Plot\n",
        "disp=ConfusionMatrixDisplay(confusion_matrix=cm,display_labels=label_names)\n",
        "fig, ax = plt.subplots(figsize=(10,10))\n",
        "disp.plot(ax=ax);"
      ],
      "metadata": {
        "colab": {
          "base_uri": "https://localhost:8080/",
          "height": 580
        },
        "id": "MKqX5qEeJKkq",
        "outputId": "2a83612c-d5f2-4cf8-9773-78c77cc651dd"
      },
      "execution_count": 32,
      "outputs": [
        {
          "output_type": "display_data",
          "data": {
            "text/plain": [
              "<Figure size 720x720 with 2 Axes>"
            ],
            "image/png": "[encoded data removed]"
          },
          "metadata": {
            "needs_background": "light"
          }
        }
      ]
    }
  ]
}