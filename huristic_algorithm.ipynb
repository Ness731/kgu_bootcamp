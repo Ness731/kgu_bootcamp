{
  "nbformat": 4,
  "nbformat_minor": 0,
  "metadata": {
    "colab": {
      "provenance": [],
      "authorship_tag": "ABX9TyNrSi/LuiSM/hqIZjmsQYgi",
      "include_colab_link": true
    },
    "kernelspec": {
      "name": "python3",
      "display_name": "Python 3"
    },
    "language_info": {
      "name": "python"
    },
    "accelerator": "GPU",
    "gpuClass": "standard"
  },
  "cells": [
    {
      "cell_type": "markdown",
      "metadata": {
        "id": "view-in-github",
        "colab_type": "text"
      },
      "source": [
        "<a href=\"https://colab.research.google.com/github/Ness731/kgu_bootcamp/blob/main/huristic_algorithm.ipynb\" target=\"_parent\"><img src=\"https://colab.research.google.com/assets/colab-badge.svg\" alt=\"Open In Colab\"/></a>"
      ]
    },
    {
      "cell_type": "code",
      "source": [
        "from google.colab import drive\n",
        "drive.mount('/content/drive')"
      ],
      "metadata": {
        "colab": {
          "base_uri": "https://localhost:8080/"
        },
        "id": "c9aKr8y4T9M-",
        "outputId": "120e8625-ec3e-4cdf-9f1a-7a9b534e2775"
      },
      "execution_count": null,
      "outputs": [
        {
          "output_type": "stream",
          "name": "stdout",
          "text": [
            "Mounted at /content/drive\n"
          ]
        }
      ]
    },
    {
      "cell_type": "code",
      "source": [
        "path = '/content/drive/MyDrive/Input_data.csv'"
      ],
      "metadata": {
        "id": "OjDJ_TE2T-h6"
      },
      "execution_count": null,
      "outputs": []
    },
    {
      "cell_type": "code",
      "source": [
        "import pandas as pd\n",
        "import numpy as np\n",
        "import math"
      ],
      "metadata": {
        "id": "PS41vHIPUckR"
      },
      "execution_count": null,
      "outputs": []
    },
    {
      "cell_type": "code",
      "source": [
        "data = pd.read_csv(path)"
      ],
      "metadata": {
        "id": "maz8lxjpUqRg"
      },
      "execution_count": null,
      "outputs": []
    },
    {
      "cell_type": "code",
      "source": [
        "data.head"
      ],
      "metadata": {
        "colab": {
          "base_uri": "https://localhost:8080/"
        },
        "id": "eu_ri7o6Uxxr",
        "outputId": "43eec19c-9e50-4957-f3bb-6c1355614b87"
      },
      "execution_count": null,
      "outputs": [
        {
          "output_type": "execute_result",
          "data": {
            "text/plain": [
              "<bound method NDFrame.head of     NO.  XCOORD.  YCOORD.\n",
              "0     0        0        0\n",
              "1     1       50       13\n",
              "2     2       47       24\n",
              "3     3        5       15\n",
              "4     4        5        1\n",
              "..  ...      ...      ...\n",
              "95   95       33       11\n",
              "96   96       42       28\n",
              "97   97       17       38\n",
              "98   98       41       25\n",
              "99   99       19        3\n",
              "\n",
              "[100 rows x 3 columns]>"
            ]
          },
          "metadata": {},
          "execution_count": 238
        }
      ]
    },
    {
      "cell_type": "code",
      "source": [
        "df = data.drop('NO.', axis=1)\n",
        "df.head"
      ],
      "metadata": {
        "colab": {
          "base_uri": "https://localhost:8080/"
        },
        "id": "gntDLTvAUyuS",
        "outputId": "41dd5c47-fbf6-42fe-adcf-4a4e5b597e04"
      },
      "execution_count": null,
      "outputs": [
        {
          "output_type": "execute_result",
          "data": {
            "text/plain": [
              "<bound method NDFrame.head of     XCOORD.  YCOORD.\n",
              "0         0        0\n",
              "1        50       13\n",
              "2        47       24\n",
              "3         5       15\n",
              "4         5        1\n",
              "..      ...      ...\n",
              "95       33       11\n",
              "96       42       28\n",
              "97       17       38\n",
              "98       41       25\n",
              "99       19        3\n",
              "\n",
              "[100 rows x 2 columns]>"
            ]
          },
          "metadata": {},
          "execution_count": 239
        }
      ]
    },
    {
      "cell_type": "code",
      "source": [
        "# 잔여도시\n",
        "remain = df[1:100].values.tolist()\n",
        "remain"
      ],
      "metadata": {
        "colab": {
          "base_uri": "https://localhost:8080/"
        },
        "id": "7Y0pRC7oVFCc",
        "outputId": "157d25e4-8ff5-4fa5-cebd-6503749a2fa8"
      },
      "execution_count": null,
      "outputs": [
        {
          "output_type": "execute_result",
          "data": {
            "text/plain": [
              "[[50, 13],\n",
              " [47, 24],\n",
              " [5, 15],\n",
              " [5, 1],\n",
              " [44, 44],\n",
              " [27, 10],\n",
              " [38, 21],\n",
              " [24, 31],\n",
              " [41, 12],\n",
              " [47, 39],\n",
              " [44, 4],\n",
              " [50, 31],\n",
              " [32, 12],\n",
              " [17, 12],\n",
              " [27, 41],\n",
              " [18, 31],\n",
              " [19, 20],\n",
              " [22, 49],\n",
              " [11, 38],\n",
              " [12, 31],\n",
              " [39, 47],\n",
              " [12, 39],\n",
              " [42, 20],\n",
              " [15, 25],\n",
              " [40, 22],\n",
              " [5, 39],\n",
              " [1, 23],\n",
              " [20, 17],\n",
              " [40, 33],\n",
              " [20, 8],\n",
              " [48, 21],\n",
              " [18, 34],\n",
              " [41, 1],\n",
              " [13, 41],\n",
              " [18, 2],\n",
              " [0, 27],\n",
              " [24, 1],\n",
              " [45, 0],\n",
              " [4, 37],\n",
              " [35, 21],\n",
              " [4, 31],\n",
              " [13, 20],\n",
              " [42, 41],\n",
              " [1, 6],\n",
              " [9, 17],\n",
              " [1, 49],\n",
              " [29, 33],\n",
              " [6, 26],\n",
              " [27, 21],\n",
              " [47, 28],\n",
              " [49, 30],\n",
              " [8, 5],\n",
              " [17, 31],\n",
              " [34, 6],\n",
              " [24, 45],\n",
              " [19, 21],\n",
              " [46, 9],\n",
              " [45, 36],\n",
              " [30, 22],\n",
              " [15, 23],\n",
              " [37, 19],\n",
              " [40, 8],\n",
              " [36, 19],\n",
              " [27, 44],\n",
              " [45, 6],\n",
              " [47, 37],\n",
              " [7, 29],\n",
              " [42, 2],\n",
              " [45, 24],\n",
              " [31, 36],\n",
              " [31, 6],\n",
              " [22, 50],\n",
              " [36, 40],\n",
              " [20, 37],\n",
              " [8, 17],\n",
              " [2, 18],\n",
              " [24, 4],\n",
              " [8, 5],\n",
              " [12, 7],\n",
              " [46, 50],\n",
              " [16, 46],\n",
              " [26, 45],\n",
              " [27, 44],\n",
              " [25, 29],\n",
              " [34, 24],\n",
              " [28, 6],\n",
              " [36, 15],\n",
              " [17, 6],\n",
              " [48, 16],\n",
              " [46, 23],\n",
              " [0, 12],\n",
              " [20, 14],\n",
              " [28, 0],\n",
              " [20, 6],\n",
              " [33, 11],\n",
              " [42, 28],\n",
              " [17, 38],\n",
              " [41, 25],\n",
              " [19, 3]]"
            ]
          },
          "metadata": {},
          "execution_count": 240
        }
      ]
    },
    {
      "cell_type": "code",
      "source": [
        "# 타겟도시 - 초기화는 0번째 도시\n",
        "target = df[0:1].values.tolist()\n",
        "target"
      ],
      "metadata": {
        "colab": {
          "base_uri": "https://localhost:8080/"
        },
        "id": "9Lbajd_nWVKp",
        "outputId": "6df73f2a-d83d-4410-e866-aade2011ff0d"
      },
      "execution_count": null,
      "outputs": [
        {
          "output_type": "execute_result",
          "data": {
            "text/plain": [
              "[[0, 0]]"
            ]
          },
          "metadata": {},
          "execution_count": 241
        }
      ]
    },
    {
      "cell_type": "code",
      "source": [
        "# 타겟 도시와의 거리를 구하는 함수\n",
        "def get_dist(target, remain):\n",
        "  dist = []\n",
        "  tx = target[0][0]\n",
        "  ty = target[0][1]\n",
        "  for x,y in remain : \n",
        "    d =  math.sqrt(pow((tx - x), 2) + pow((ty - y), 2)) # 거리 구하기\n",
        "    dist.append(d)\n",
        "  return dist"
      ],
      "metadata": {
        "id": "foL0_-5jWXXB"
      },
      "execution_count": null,
      "outputs": []
    },
    {
      "cell_type": "code",
      "source": [
        "def get_minimun(dist):\n",
        "  min = dist[0]\n",
        "  for d in dist :\n",
        "    if(min > d) : \n",
        "      min = d\n",
        "  return dist.index(min)"
      ],
      "metadata": {
        "id": "m-fa5zWigchx"
      },
      "execution_count": null,
      "outputs": []
    },
    {
      "cell_type": "code",
      "source": [
        "dist = get_dist(target, remain)\n",
        "idx = get_minimun(dist)\n",
        "[remain[idx]]"
      ],
      "metadata": {
        "colab": {
          "base_uri": "https://localhost:8080/"
        },
        "id": "25MRvSQxkxN0",
        "outputId": "cc11d1c8-2ada-49da-b12a-f6e6c95b749f"
      },
      "execution_count": null,
      "outputs": [
        {
          "output_type": "execute_result",
          "data": {
            "text/plain": [
              "[[5, 1]]"
            ]
          },
          "metadata": {},
          "execution_count": 244
        }
      ]
    },
    {
      "cell_type": "code",
      "source": [
        "origin = remain\n",
        "origin.index([remain[idx][0], remain[idx][1]])"
      ],
      "metadata": {
        "colab": {
          "base_uri": "https://localhost:8080/"
        },
        "id": "43JEjLUunXc_",
        "outputId": "8e76c005-5bd4-46d1-e2b7-d518c01b9b73"
      },
      "execution_count": null,
      "outputs": [
        {
          "output_type": "execute_result",
          "data": {
            "text/plain": [
              "3"
            ]
          },
          "metadata": {},
          "execution_count": 245
        }
      ]
    },
    {
      "cell_type": "code",
      "source": [
        "route = [0] # 출발 도시는 0번\n",
        "origin = remain\n",
        "start = df[0:1].values.tolist()\n",
        "def greedy(target, remain):\n",
        "  greedy_dist = 0\n",
        "  # 아래의 알고리즘을 모든 도시에 대해 반복한다.\n",
        "  while len(remain) > 0 :\n",
        "    # 1. 타겟과 나머지 다른 모든 도시와의 거리를 구한다.\n",
        "    dst = get_dist(target, remain)\n",
        "    \n",
        "    # 2. 거리가 최소인 도시의 인덱스를 구한다.\n",
        "    min_idx = get_minimun(dst)\n",
        "    greedy_dist += dst[min_idx]\n",
        "    # 3. 해당 인덱스를 경로에 추가한다.\n",
        "    # 이 때, 인덱스는 중간에 변경되기 때문에 원본과 다르므로, 원본의 인덱스를 찾아야 한다.\n",
        "    # 따라서 먼저 값을 참조한 후, 원본 리스트에서 해당 값의 인덱스를 검색한다.\n",
        "    val = remain[min_idx]\n",
        "    origin_index = origin.index([val[0], val[1]])\n",
        "    route.append(origin_index)\n",
        "\n",
        "    # 4. 타겟 도시를 방금 추가한 도시로 설정한다. \n",
        "    target = [remain[min_idx]]\n",
        "\n",
        "    # 5. 남아있는 도시에서 방금 추가한 도시를 제거한다.\n",
        "    remain = np.delete(remain, min_idx, axis=0)\n",
        "\n",
        "  last = origin[route[-1]]\n",
        "  d =  math.sqrt(pow((0 - last[0]), 2) + pow((0 - last[1]), 2)) # 거리 구하기\n",
        "  greedy_dist += d\n",
        "\n",
        "  # 마지막 경유지는 0번째 도시\n",
        "  route.append(0)\n",
        "\n",
        "  print(\"최종거리 : \")\n",
        "  print(greedy_dist)\n",
        "  return route"
      ],
      "metadata": {
        "id": "5utegLe7hfSK"
      },
      "execution_count": null,
      "outputs": []
    },
    {
      "cell_type": "code",
      "source": [
        "result = greedy(target, remain)"
      ],
      "metadata": {
        "colab": {
          "base_uri": "https://localhost:8080/"
        },
        "id": "atnawK_BfEKj",
        "outputId": "20b7a782-a61e-4073-9dd4-bec1fde63a18"
      },
      "execution_count": null,
      "outputs": [
        {
          "output_type": "stream",
          "name": "stdout",
          "text": [
            "최종거리 : \n",
            "523.7415420152441\n"
          ]
        }
      ]
    },
    {
      "cell_type": "code",
      "source": [
        "len(result)"
      ],
      "metadata": {
        "colab": {
          "base_uri": "https://localhost:8080/"
        },
        "id": "0EMj67HxqJMa",
        "outputId": "2f5b6cee-8139-432d-8262-4cb11f0d7cb8"
      },
      "execution_count": null,
      "outputs": [
        {
          "output_type": "execute_result",
          "data": {
            "text/plain": [
              "101"
            ]
          },
          "metadata": {},
          "execution_count": 248
        }
      ]
    },
    {
      "cell_type": "code",
      "source": [
        "result"
      ],
      "metadata": {
        "colab": {
          "base_uri": "https://localhost:8080/"
        },
        "id": "S3b5dgnmq02W",
        "outputId": "45978acb-18e4-456f-ed1c-a52ab9fb16dc"
      },
      "execution_count": null,
      "outputs": [
        {
          "output_type": "execute_result",
          "data": {
            "text/plain": [
              "[0,\n",
              " 3,\n",
              " 51,\n",
              " 51,\n",
              " 78,\n",
              " 87,\n",
              " 93,\n",
              " 29,\n",
              " 13,\n",
              " 91,\n",
              " 27,\n",
              " 16,\n",
              " 55,\n",
              " 59,\n",
              " 23,\n",
              " 41,\n",
              " 44,\n",
              " 74,\n",
              " 2,\n",
              " 75,\n",
              " 26,\n",
              " 35,\n",
              " 40,\n",
              " 66,\n",
              " 47,\n",
              " 19,\n",
              " 52,\n",
              " 15,\n",
              " 31,\n",
              " 73,\n",
              " 96,\n",
              " 33,\n",
              " 21,\n",
              " 18,\n",
              " 25,\n",
              " 38,\n",
              " 45,\n",
              " 80,\n",
              " 17,\n",
              " 71,\n",
              " 54,\n",
              " 81,\n",
              " 63,\n",
              " 63,\n",
              " 14,\n",
              " 69,\n",
              " 46,\n",
              " 7,\n",
              " 83,\n",
              " 48,\n",
              " 58,\n",
              " 84,\n",
              " 39,\n",
              " 62,\n",
              " 60,\n",
              " 6,\n",
              " 24,\n",
              " 22,\n",
              " 68,\n",
              " 89,\n",
              " 1,\n",
              " 30,\n",
              " 88,\n",
              " 0,\n",
              " 56,\n",
              " 64,\n",
              " 10,\n",
              " 67,\n",
              " 32,\n",
              " 37,\n",
              " 61,\n",
              " 8,\n",
              " 86,\n",
              " 12,\n",
              " 94,\n",
              " 53,\n",
              " 70,\n",
              " 85,\n",
              " 5,\n",
              " 76,\n",
              " 36,\n",
              " 92,\n",
              " 98,\n",
              " 34,\n",
              " 43,\n",
              " 90,\n",
              " 97,\n",
              " 95,\n",
              " 49,\n",
              " 50,\n",
              " 11,\n",
              " 65,\n",
              " 9,\n",
              " 57,\n",
              " 28,\n",
              " 72,\n",
              " 42,\n",
              " 4,\n",
              " 20,\n",
              " 79,\n",
              " 0]"
            ]
          },
          "metadata": {},
          "execution_count": 249
        }
      ]
    },
    {
      "cell_type": "code",
      "source": [
        "import matplotlib.pyplot as plt\n",
        "import numpy as np"
      ],
      "metadata": {
        "id": "XGneObJ9gniX"
      },
      "execution_count": null,
      "outputs": []
    },
    {
      "cell_type": "code",
      "source": [
        "graph = []\n",
        "for i in result :\n",
        "  xy = origin[i]\n",
        "  graph.append(xy)\n",
        "graph.pop(0)\n",
        "graph.pop()\n",
        "graph.append([0,0])\n",
        "graph.insert(0, [0,0])\n",
        "graph"
      ],
      "metadata": {
        "colab": {
          "base_uri": "https://localhost:8080/"
        },
        "id": "nbllfgZ-pzGF",
        "outputId": "d53addf9-bf76-41e0-f015-2b5b9321ac3d"
      },
      "execution_count": null,
      "outputs": [
        {
          "output_type": "execute_result",
          "data": {
            "text/plain": [
              "[[0, 0],\n",
              " [5, 1],\n",
              " [8, 5],\n",
              " [8, 5],\n",
              " [12, 7],\n",
              " [17, 6],\n",
              " [20, 6],\n",
              " [20, 8],\n",
              " [17, 12],\n",
              " [20, 14],\n",
              " [20, 17],\n",
              " [19, 20],\n",
              " [19, 21],\n",
              " [15, 23],\n",
              " [15, 25],\n",
              " [13, 20],\n",
              " [9, 17],\n",
              " [8, 17],\n",
              " [5, 15],\n",
              " [2, 18],\n",
              " [1, 23],\n",
              " [0, 27],\n",
              " [4, 31],\n",
              " [7, 29],\n",
              " [6, 26],\n",
              " [12, 31],\n",
              " [17, 31],\n",
              " [18, 31],\n",
              " [18, 34],\n",
              " [20, 37],\n",
              " [17, 38],\n",
              " [13, 41],\n",
              " [12, 39],\n",
              " [11, 38],\n",
              " [5, 39],\n",
              " [4, 37],\n",
              " [1, 49],\n",
              " [16, 46],\n",
              " [22, 49],\n",
              " [22, 50],\n",
              " [24, 45],\n",
              " [26, 45],\n",
              " [27, 44],\n",
              " [27, 44],\n",
              " [27, 41],\n",
              " [31, 36],\n",
              " [29, 33],\n",
              " [24, 31],\n",
              " [25, 29],\n",
              " [27, 21],\n",
              " [30, 22],\n",
              " [34, 24],\n",
              " [35, 21],\n",
              " [36, 19],\n",
              " [37, 19],\n",
              " [38, 21],\n",
              " [40, 22],\n",
              " [42, 20],\n",
              " [45, 24],\n",
              " [46, 23],\n",
              " [47, 24],\n",
              " [48, 21],\n",
              " [48, 16],\n",
              " [50, 13],\n",
              " [46, 9],\n",
              " [45, 6],\n",
              " [44, 4],\n",
              " [42, 2],\n",
              " [41, 1],\n",
              " [45, 0],\n",
              " [40, 8],\n",
              " [41, 12],\n",
              " [36, 15],\n",
              " [32, 12],\n",
              " [33, 11],\n",
              " [34, 6],\n",
              " [31, 6],\n",
              " [28, 6],\n",
              " [27, 10],\n",
              " [24, 4],\n",
              " [24, 1],\n",
              " [28, 0],\n",
              " [19, 3],\n",
              " [18, 2],\n",
              " [1, 6],\n",
              " [0, 12],\n",
              " [41, 25],\n",
              " [42, 28],\n",
              " [47, 28],\n",
              " [49, 30],\n",
              " [50, 31],\n",
              " [47, 37],\n",
              " [47, 39],\n",
              " [45, 36],\n",
              " [40, 33],\n",
              " [36, 40],\n",
              " [42, 41],\n",
              " [44, 44],\n",
              " [39, 47],\n",
              " [46, 50],\n",
              " [0, 0]]"
            ]
          },
          "metadata": {},
          "execution_count": 259
        }
      ]
    },
    {
      "cell_type": "code",
      "source": [
        "x= [i[0] for i in graph]\n",
        "y= [i[1] for i in graph]\n",
        "plt.scatter(x, y, color='k')\n",
        "plt.plot(x, y, marker = '>', linestyle= 'dotted', color = 'k')\n",
        "plt.plot(0, 0, marker = 'o', color='red')\n",
        "plt.show()"
      ],
      "metadata": {
        "colab": {
          "base_uri": "https://localhost:8080/",
          "height": 265
        },
        "id": "VX7BeUfWp8nd",
        "outputId": "72dd2690-7639-4474-f6c1-5b748f7d9cf5"
      },
      "execution_count": null,
      "outputs": [
        {
          "output_type": "display_data",
          "data": {
            "text/plain": [
              "<Figure size 432x288 with 1 Axes>"
            ],
            "image/png": "[encoded data removed]"
          },
          "metadata": {
            "needs_background": "light"
          }
        }
      ]
    }
  ]
}